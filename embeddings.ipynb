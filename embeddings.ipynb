{
 "cells": [
  {
   "cell_type": "code",
   "execution_count": 1,
   "id": "df7d3b60-cb7d-419f-b28a-2839e3cf2c78",
   "metadata": {},
   "outputs": [],
   "source": [
    "import torch\n",
    "from torch import nn"
   ]
  },
  {
   "cell_type": "code",
   "execution_count": 2,
   "id": "55861e26-fffd-4540-ad51-0e223809f9dd",
   "metadata": {},
   "outputs": [],
   "source": [
    "linear = nn.Linear(in_features=5, out_features=10)"
   ]
  },
  {
   "cell_type": "code",
   "execution_count": 3,
   "id": "acd8bae1-dc4d-4f0e-b53c-d31393075026",
   "metadata": {},
   "outputs": [
    {
     "name": "stdout",
     "output_type": "stream",
     "text": [
      "tensor([[ 0.2541, -1.0369,  0.1235, -0.2310,  0.8437,  0.1770,  0.5431, -0.1756,\n",
      "          0.2950, -0.1223],\n",
      "        [-0.0545, -0.8832,  0.1278,  0.2958,  0.5144, -0.0134,  0.1857, -0.4612,\n",
      "          0.2857, -0.6853]], grad_fn=<SliceBackward0>)\n"
     ]
    }
   ],
   "source": [
    "input = torch.rand((30, 5))\n",
    "output = linear(input)\n",
    "\n",
    "print(output[0:2])"
   ]
  },
  {
   "cell_type": "code",
   "execution_count": 4,
   "id": "46506eac-9fc6-4939-9327-c7df9344d4f6",
   "metadata": {},
   "outputs": [
    {
     "name": "stdout",
     "output_type": "stream",
     "text": [
      "Epoch [1/5], Loss: 0.9294\n",
      "Epoch [2/5], Loss: 0.9290\n",
      "Epoch [3/5], Loss: 0.9259\n",
      "Epoch [4/5], Loss: 0.9223\n",
      "Epoch [5/5], Loss: 0.9214\n",
      "Epoch [6/5], Loss: 0.9255\n",
      "Epoch [7/5], Loss: 0.9264\n",
      "Epoch [8/5], Loss: 0.9190\n",
      "Epoch [9/5], Loss: 0.9248\n",
      "Epoch [10/5], Loss: 0.9229\n",
      "Training complete!\n"
     ]
    }
   ],
   "source": [
    "import torch\n",
    "import torch.nn as nn\n",
    "import torch.nn.functional as F\n",
    "import torch.optim as optim\n",
    "from torchvision import datasets, transforms\n",
    "\n",
    "# Define the autoencoder class\n",
    "class Autoencoder(nn.Module):\n",
    "    def __init__(self):\n",
    "        super(Autoencoder, self).__init__()\n",
    "        self.encoder = nn.Sequential(\n",
    "            nn.Linear(28 * 28, 128),\n",
    "            nn.ReLU(),\n",
    "            nn.Linear(128, 64),\n",
    "            nn.ReLU(),\n",
    "            nn.Linear(64, 12),\n",
    "            nn.ReLU(),\n",
    "            nn.Linear(12, 6)  # Bottleneck layer\n",
    "        )\n",
    "        self.decoder = nn.Sequential(\n",
    "            nn.Linear(6, 12),\n",
    "            nn.ReLU(),\n",
    "            nn.Linear(12, 64),\n",
    "            nn.ReLU(),\n",
    "            nn.Linear(64, 128),\n",
    "            nn.ReLU(),\n",
    "            nn.Linear(128, 28 * 28),\n",
    "            nn.Sigmoid()\n",
    "        )\n",
    "\n",
    "    def forward(self, x):\n",
    "        x = self.encoder(x)\n",
    "        x = F.sigmoid(x)\n",
    "        x = self.decoder(x)\n",
    "        return x\n",
    "\n",
    "# Load the dataset\n",
    "transform = transforms.Compose([transforms.ToTensor(), transforms.Normalize((0.5,), (0.5,))])\n",
    "trainset = datasets.MNIST(root='./data', train=True, download=True, transform=transform)\n",
    "trainloader = torch.utils.data.DataLoader(trainset, batch_size=64, shuffle=True)\n",
    "\n",
    "# Initialize the model, loss function, and optimizer\n",
    "model = Autoencoder()\n",
    "criterion = nn.MSELoss()\n",
    "optimizer = optim.Adam(model.parameters(), lr=0.001)\n",
    "\n",
    "# Training loop\n",
    "for epoch in range(10):  # Train for 5 epochs\n",
    "    for data in trainloader:\n",
    "        inputs, _ = data\n",
    "        inputs = inputs.view(-1, 28 * 28)  # Flatten the images\n",
    "\n",
    "        # Forward pass\n",
    "        outputs = model(inputs)\n",
    "        loss = criterion(outputs, inputs)\n",
    "\n",
    "        # Backward pass and optimization\n",
    "        optimizer.zero_grad()\n",
    "        loss.backward()\n",
    "        optimizer.step()\n",
    "\n",
    "    print(f'Epoch [{epoch+1}/5], Loss: {loss.item():.4f}')\n",
    "\n",
    "print(\"Training complete!\")"
   ]
  },
  {
   "cell_type": "code",
   "execution_count": 5,
   "id": "015b1227-6528-4c55-8f14-939229cbf58b",
   "metadata": {},
   "outputs": [
    {
     "name": "stdout",
     "output_type": "stream",
     "text": [
      "  category  category_index\n",
      "0      cat               1\n",
      "1      dog               2\n",
      "2     bird               0\n",
      "3      cat               1\n",
      "4     bird               0\n",
      "5      dog               2\n"
     ]
    }
   ],
   "source": [
    "import pandas as pd\n",
    "\n",
    "# Example categorical column\n",
    "data = {'category': ['cat', 'dog', 'bird', 'cat', 'bird', 'dog']}\n",
    "df = pd.DataFrame(data)\n",
    "\n",
    "# Create a unique index for each category\n",
    "df['category_index'] = df['category'].astype('category').cat.codes\n",
    "print(df)"
   ]
  },
  {
   "cell_type": "code",
   "execution_count": 6,
   "id": "aa9945b5-06cf-4eb3-b334-3c6d0ac3a683",
   "metadata": {},
   "outputs": [
    {
     "name": "stdout",
     "output_type": "stream",
     "text": [
      "tensor([[0, 1, 0],\n",
      "        [0, 0, 1],\n",
      "        [1, 0, 0],\n",
      "        [0, 1, 0],\n",
      "        [1, 0, 0],\n",
      "        [0, 0, 1]])\n"
     ]
    }
   ],
   "source": [
    "import torch\n",
    "import torch.nn.functional as F\n",
    "\n",
    "# Convert category indices to one-hot encoding\n",
    "num_classes = df['category_index'].nunique()\n",
    "one_hot = F.one_hot(torch.tensor(df['category_index']).to(torch.int64), num_classes=num_classes)\n",
    "print(one_hot)"
   ]
  },
  {
   "cell_type": "code",
   "execution_count": 8,
   "id": "8f5454d2-958d-4da2-840b-e5f347186f20",
   "metadata": {},
   "outputs": [
    {
     "data": {
      "text/plain": [
       "<matplotlib.image.AxesImage at 0x7f04151349d0>"
      ]
     },
     "execution_count": 8,
     "metadata": {},
     "output_type": "execute_result"
    },
    {
     "data": {
      "image/png": "[encoded data removed]",
      "text/plain": [
       "<Figure size 640x480 with 1 Axes>"
      ]
     },
     "metadata": {},
     "output_type": "display_data"
    }
   ],
   "source": [
    "import matplotlib.pyplot as plt\n",
    "\n",
    "plt.imshow(one_hot)"
   ]
  },
  {
   "cell_type": "code",
   "execution_count": 26,
   "id": "829658da-15b4-419e-b083-e91e5603b4f5",
   "metadata": {},
   "outputs": [
    {
     "name": "stdout",
     "output_type": "stream",
     "text": [
      "tensor([[-1.1242],\n",
      "        [ 0.0574],\n",
      "        [-0.7675],\n",
      "        [-1.1242],\n",
      "        [-0.7675],\n",
      "        [ 0.0574]], grad_fn=<AddmmBackward0>)\n",
      "\n",
      "tensor([[-0.5776,  0.3355,  2.3085, -0.1005],\n",
      "        [-0.0302,  0.7318, -1.4959, -0.7707],\n",
      "        [-1.1924,  0.0649,  1.2808,  2.1736],\n",
      "        [-0.5776,  0.3355,  2.3085, -0.1005],\n",
      "        [-1.1924,  0.0649,  1.2808,  2.1736],\n",
      "        [-0.0302,  0.7318, -1.4959, -0.7707]], grad_fn=<EmbeddingBackward0>)\n"
     ]
    }
   ],
   "source": [
    "import torch.nn as nn\n",
    "\n",
    "class SimpleModel(nn.Module):\n",
    "    def __init__(self, num_classes, embedding_dim):\n",
    "        super(SimpleModel, self).__init__()\n",
    "        self.embedding = nn.Embedding(num_classes, embedding_dim)\n",
    "        self.fc = nn.Linear(embedding_dim, 1)  # Example output layer\n",
    "\n",
    "    def forward(self, x):\n",
    "        embedding = self.embedding(x)\n",
    "        x = self.fc(embedding)\n",
    "        return x, embedding\n",
    "\n",
    "\n",
    "# Instantiate and test the model\n",
    "model = SimpleModel(num_classes=num_classes, embedding_dim=4)\n",
    "output, embeddings = model(torch.tensor(df['category_index']).to(torch.int64))\n",
    "print(output)\n",
    "print()\n",
    "print(embeddings)"
   ]
  },
  {
   "cell_type": "code",
   "execution_count": null,
   "id": "986cd487-3e72-4db2-a247-12c6d9fdba11",
   "metadata": {},
   "outputs": [],
   "source": []
  }
 ],
 "metadata": {
  "kernelspec": {
   "display_name": "Python 3 (ipykernel)",
   "language": "python",
   "name": "python3"
  },
  "language_info": {
   "codemirror_mode": {
    "name": "ipython",
    "version": 3
   },
   "file_extension": ".py",
   "mimetype": "text/x-python",
   "name": "python",
   "nbconvert_exporter": "python",
   "pygments_lexer": "ipython3",
   "version": "3.10.14"
  }
 },
 "nbformat": 4,
 "nbformat_minor": 5
}
