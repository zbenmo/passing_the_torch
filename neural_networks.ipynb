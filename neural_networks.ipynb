{
 "cells": [
  {
   "cell_type": "code",
   "execution_count": 1,
   "id": "6b326edc-df2c-44a3-89ea-ad1f210919ed",
   "metadata": {},
   "outputs": [],
   "source": [
    "import torch\n",
    "from torch import nn\n",
    "from torch.nn import functional as F"
   ]
  },
  {
   "cell_type": "code",
   "execution_count": 2,
   "id": "6c5ed88a-0d62-4ab0-b565-5192f50fc6f9",
   "metadata": {},
   "outputs": [
    {
     "name": "stdout",
     "output_type": "stream",
     "text": [
      "tensor([-0.1887], grad_fn=<TanhBackward0>)\n",
      "torch.Size([1])\n",
      "torch.Size([1, 1])\n",
      "torch.Size([1, 1, 1])\n"
     ]
    }
   ],
   "source": [
    "class MyModel(nn.Module):\n",
    "    def __init__(self):\n",
    "        super(MyModel, self).__init__()\n",
    "        self.fc1 = nn.Linear(5, 10)\n",
    "        self.fc2 = nn.Linear(10, 1)\n",
    "\n",
    "    def forward(self, x):\n",
    "        x = self.fc1(x)\n",
    "        x = F.tanh(x)\n",
    "        x = self.fc2(x)\n",
    "        return F.tanh(x)\n",
    "\n",
    "\n",
    "model = MyModel()\n",
    "\n",
    "out = model(torch.rand(5))\n",
    "print(out)\n",
    "print(out.shape)\n",
    "print(model(torch.rand(5).unsqueeze(0)).shape)\n",
    "print(model(torch.rand(5).unsqueeze(0).unsqueeze(0)).shape)"
   ]
  },
  {
   "cell_type": "code",
   "execution_count": 3,
   "id": "56aebee8-bb58-424d-bb67-43952dc9a3c2",
   "metadata": {},
   "outputs": [
    {
     "data": {
      "text/plain": [
       "OrderedDict([('weight',\n",
       "              tensor([[ 0.3565,  0.3541, -0.3822,  0.1587,  0.0942],\n",
       "                      [ 0.0980,  0.3929, -0.2194, -0.1066,  0.0625],\n",
       "                      [-0.3535,  0.3207, -0.0539, -0.4247,  0.0912],\n",
       "                      [-0.3637, -0.2459,  0.0212,  0.1328,  0.2579],\n",
       "                      [ 0.3138,  0.1941,  0.0835, -0.0809,  0.0022],\n",
       "                      [-0.2479,  0.1524,  0.2573,  0.3162, -0.3442],\n",
       "                      [ 0.1345,  0.1730,  0.0407, -0.1263,  0.0327],\n",
       "                      [ 0.0653, -0.1426, -0.0094, -0.3707,  0.2609],\n",
       "                      [-0.1513, -0.0651,  0.1207,  0.0728, -0.2153],\n",
       "                      [ 0.1627, -0.1100, -0.2881, -0.2790, -0.4089]])),\n",
       "             ('bias',\n",
       "              tensor([ 0.2750, -0.3668,  0.1158, -0.2813, -0.2112,  0.3921,  0.3545, -0.1897,\n",
       "                      -0.1425,  0.3865]))])"
      ]
     },
     "execution_count": 3,
     "metadata": {},
     "output_type": "execute_result"
    }
   ],
   "source": [
    "model.fc1.state_dict()"
   ]
  },
  {
   "cell_type": "code",
   "execution_count": 4,
   "id": "e057dff9-3fd8-45d3-977d-01aa1b04b1fc",
   "metadata": {},
   "outputs": [
    {
     "data": {
      "text/plain": [
       "MyModel(\n",
       "  (fc1): Linear(in_features=5, out_features=10, bias=True)\n",
       "  (fc2): Linear(in_features=10, out_features=1, bias=True)\n",
       ")"
      ]
     },
     "execution_count": 4,
     "metadata": {},
     "output_type": "execute_result"
    }
   ],
   "source": [
    "model"
   ]
  },
  {
   "cell_type": "code",
   "execution_count": 3,
   "id": "059d5e3c-23ec-4ea8-ae93-a27b6153214f",
   "metadata": {},
   "outputs": [
    {
     "data": {
      "text/plain": [
       "torch.Size([1])"
      ]
     },
     "execution_count": 3,
     "metadata": {},
     "output_type": "execute_result"
    }
   ],
   "source": [
    "out.shape"
   ]
  },
  {
   "cell_type": "code",
   "execution_count": 4,
   "id": "d0e3860b-1283-449d-877d-7c53632bdeb1",
   "metadata": {},
   "outputs": [
    {
     "name": "stdout",
     "output_type": "stream",
     "text": [
      "OrderedDict([('weight', tensor([[ 0.3229, -0.4006, -0.3276,  0.0394,  0.2705],\n",
      "        [-0.0440, -0.0373,  0.2262, -0.0609, -0.4079],\n",
      "        [-0.1262, -0.3244,  0.3307, -0.4071, -0.1682],\n",
      "        [-0.0568, -0.2515, -0.0426, -0.1685, -0.1788],\n",
      "        [ 0.3731, -0.3624,  0.4023,  0.3771, -0.0054],\n",
      "        [-0.3493, -0.3476, -0.0532, -0.1070,  0.1893],\n",
      "        [ 0.3229, -0.0508, -0.1940,  0.3586,  0.4163],\n",
      "        [-0.0898,  0.1607,  0.2969, -0.0722,  0.0483],\n",
      "        [-0.2208,  0.0196,  0.4325,  0.0265,  0.0429],\n",
      "        [ 0.3451, -0.2929, -0.3196,  0.0557,  0.1808]])), ('bias', tensor([-0.0854,  0.0507, -0.0807,  0.2271,  0.2749,  0.0700, -0.0399, -0.2366,\n",
      "        -0.2049, -0.4429]))])\n"
     ]
    }
   ],
   "source": [
    "print(model.fc1.state_dict())\n"
   ]
  },
  {
   "cell_type": "code",
   "execution_count": 5,
   "id": "943623c5-d245-4682-926b-383d5c2c36fd",
   "metadata": {},
   "outputs": [
    {
     "data": {
      "text/plain": [
       "torch.Size([])"
      ]
     },
     "execution_count": 5,
     "metadata": {},
     "output_type": "execute_result"
    }
   ],
   "source": [
    "torch.tensor(2).shape"
   ]
  },
  {
   "cell_type": "code",
   "execution_count": 6,
   "id": "f14fcd4e-5f92-4d35-aa30-588924459c67",
   "metadata": {},
   "outputs": [
    {
     "data": {
      "text/plain": [
       "True"
      ]
     },
     "execution_count": 6,
     "metadata": {},
     "output_type": "execute_result"
    }
   ],
   "source": [
    "isinstance(model.fc1, nn.Module)"
   ]
  },
  {
   "cell_type": "code",
   "execution_count": 7,
   "id": "b3729519-4dc8-4b93-af70-690441a28d8b",
   "metadata": {},
   "outputs": [],
   "source": [
    "from torch.utils.tensorboard import SummaryWriter\n",
    "\n",
    "writer = SummaryWriter()\n",
    "writer.add_graph(model, torch.rand(5))\n",
    "writer.close()"
   ]
  },
  {
   "cell_type": "code",
   "execution_count": 8,
   "id": "f486961b-860a-4dbc-b5fa-16256f30fd7b",
   "metadata": {},
   "outputs": [
    {
     "data": {
      "text/plain": [
       "\u001b[0;31mInit signature:\u001b[0m \u001b[0mnn\u001b[0m\u001b[0;34m.\u001b[0m\u001b[0mTanh\u001b[0m\u001b[0;34m(\u001b[0m\u001b[0;34m*\u001b[0m\u001b[0margs\u001b[0m\u001b[0;34m,\u001b[0m \u001b[0;34m**\u001b[0m\u001b[0mkwargs\u001b[0m\u001b[0;34m)\u001b[0m \u001b[0;34m->\u001b[0m \u001b[0;32mNone\u001b[0m\u001b[0;34m\u001b[0m\u001b[0;34m\u001b[0m\u001b[0m\n",
       "\u001b[0;31mDocstring:\u001b[0m     \n",
       "Applies the Hyperbolic Tangent (Tanh) function element-wise.\n",
       "\n",
       "Tanh is defined as:\n",
       "\n",
       ".. math::\n",
       "    \\text{Tanh}(x) = \\tanh(x) = \\frac{\\exp(x) - \\exp(-x)} {\\exp(x) + \\exp(-x)}\n",
       "\n",
       "Shape:\n",
       "    - Input: :math:`(*)`, where :math:`*` means any number of dimensions.\n",
       "    - Output: :math:`(*)`, same shape as the input.\n",
       "\n",
       ".. image:: ../scripts/activation_images/Tanh.png\n",
       "\n",
       "Examples::\n",
       "\n",
       "    >>> m = nn.Tanh()\n",
       "    >>> input = torch.randn(2)\n",
       "    >>> output = m(input)\n",
       "\u001b[0;31mInit docstring:\u001b[0m Initialize internal Module state, shared by both nn.Module and ScriptModule.\n",
       "\u001b[0;31mFile:\u001b[0m           ~/projects/passing_the_torch/venv/lib/python3.10/site-packages/torch/nn/modules/activation.py\n",
       "\u001b[0;31mType:\u001b[0m           type\n",
       "\u001b[0;31mSubclasses:\u001b[0m     "
      ]
     },
     "metadata": {},
     "output_type": "display_data"
    }
   ],
   "source": [
    "nn.Tanh?"
   ]
  },
  {
   "cell_type": "code",
   "execution_count": 9,
   "id": "aee1aa71-559e-4892-b5a4-473096cb7ecf",
   "metadata": {},
   "outputs": [
    {
     "name": "stdout",
     "output_type": "stream",
     "text": [
      "tensor([-0.2529], grad_fn=<TanhBackward0>)\n",
      "torch.Size([1])\n",
      "torch.Size([1, 1])\n",
      "torch.Size([1, 1, 1])\n"
     ]
    }
   ],
   "source": [
    "class MyModel(nn.Module):\n",
    "    def __init__(self):\n",
    "        super(MyModel, self).__init__()\n",
    "        self.fc1 = nn.Linear(5, 10)\n",
    "        self.nl1 = nn.Tanh()\n",
    "        self.fc2 = nn.Linear(10, 1)\n",
    "        self.nl2 = nn.Tanh()\n",
    "\n",
    "    def forward(self, x):\n",
    "        x = self.fc1(x)\n",
    "        x = self.nl1(x)\n",
    "        x = self.fc2(x)\n",
    "        return self.nl2(x)\n",
    "\n",
    "\n",
    "model = MyModel()\n",
    "\n",
    "out = model(torch.rand(5))\n",
    "print(out)\n",
    "print(out.shape)\n",
    "print(model(torch.rand(5).unsqueeze(0)).shape)\n",
    "print(model(torch.rand(5).unsqueeze(0).unsqueeze(0)).shape)"
   ]
  },
  {
   "cell_type": "code",
   "execution_count": 10,
   "id": "e9bf3655-38ea-4845-b43e-c20a6d9045e4",
   "metadata": {},
   "outputs": [],
   "source": [
    "writer = SummaryWriter()\n",
    "writer.add_graph(model, torch.rand(5))\n",
    "writer.close()"
   ]
  },
  {
   "cell_type": "code",
   "execution_count": 11,
   "id": "32c7730a-1e7e-46fc-9eb0-023e23d4f542",
   "metadata": {},
   "outputs": [
    {
     "data": {
      "text/plain": [
       "[Parameter containing:\n",
       " tensor([[ 0.1325, -0.2055, -0.2189,  0.1716, -0.3308],\n",
       "         [-0.4331, -0.1121, -0.2912, -0.3995,  0.0855],\n",
       "         [ 0.3599, -0.3656, -0.4179,  0.1815, -0.2171],\n",
       "         [-0.3045, -0.0628,  0.1607, -0.1374, -0.1648],\n",
       "         [ 0.0946, -0.1215,  0.0459,  0.0462,  0.0647],\n",
       "         [ 0.3077, -0.4079, -0.3476, -0.3135,  0.2898],\n",
       "         [ 0.3632,  0.0344,  0.0229, -0.0694,  0.3929],\n",
       "         [-0.0029, -0.2750, -0.4247, -0.3623,  0.0433],\n",
       "         [-0.0855,  0.1096,  0.1385,  0.1759, -0.2942],\n",
       "         [ 0.3949,  0.1095, -0.3975,  0.2861,  0.3637]], requires_grad=True),\n",
       " Parameter containing:\n",
       " tensor([-0.1706, -0.1214,  0.1721, -0.0808,  0.1429, -0.2637, -0.0223,  0.2530,\n",
       "          0.3734, -0.1103], requires_grad=True),\n",
       " Parameter containing:\n",
       " tensor([[ 0.1038,  0.2861,  0.2363, -0.0907, -0.2811,  0.0621, -0.0059, -0.1039,\n",
       "           0.0057,  0.0280]], requires_grad=True),\n",
       " Parameter containing:\n",
       " tensor([-0.0445], requires_grad=True)]"
      ]
     },
     "execution_count": 11,
     "metadata": {},
     "output_type": "execute_result"
    }
   ],
   "source": [
    "list(model.parameters())"
   ]
  },
  {
   "cell_type": "code",
   "execution_count": 12,
   "id": "57dd62d3-7ec4-450b-ac74-ed2b3f455ca5",
   "metadata": {},
   "outputs": [],
   "source": [
    "class MyModel(nn.Module):\n",
    "    def __init__(self, num_layers=3):\n",
    "        super(MyModel, self).__init__()\n",
    "        self.layers = []\n",
    "        in_features = 5\n",
    "        out_features = 10\n",
    "        for _ in range(num_layers - 1):\n",
    "            self.layers.append(nn.Linear(in_features, out_features))\n",
    "            in_features = out_features   \n",
    "        self.layers.append(nn.Linear(in_features, 1))\n",
    "\n",
    "    def forward(self, x):\n",
    "        for layer in self.layers:\n",
    "            x = layer(x)\n",
    "            x = F.tanh(x)\n",
    "        return x\n",
    "\n",
    "\n",
    "model = MyModel()"
   ]
  },
  {
   "cell_type": "code",
   "execution_count": 13,
   "id": "5608ad47-52c9-4081-8887-f675cc1965b0",
   "metadata": {},
   "outputs": [
    {
     "data": {
      "text/plain": [
       "OrderedDict()"
      ]
     },
     "execution_count": 13,
     "metadata": {},
     "output_type": "execute_result"
    }
   ],
   "source": [
    "model.state_dict()"
   ]
  },
  {
   "cell_type": "code",
   "execution_count": 14,
   "id": "e983c75c-838c-4a4a-828f-34f4ee195257",
   "metadata": {},
   "outputs": [
    {
     "data": {
      "text/plain": [
       "tensor([-0.1875], grad_fn=<TanhBackward0>)"
      ]
     },
     "execution_count": 14,
     "metadata": {},
     "output_type": "execute_result"
    }
   ],
   "source": [
    "model(torch.rand(5))"
   ]
  },
  {
   "cell_type": "code",
   "execution_count": 15,
   "id": "9d78b96a-5658-4e41-9ba7-4a18c039096c",
   "metadata": {},
   "outputs": [
    {
     "data": {
      "text/plain": [
       "OrderedDict([('layers.0.weight',\n",
       "              tensor([[ 0.2654,  0.1255, -0.0039, -0.0020,  0.3945],\n",
       "                      [ 0.0726,  0.3842, -0.4344, -0.4215,  0.2900],\n",
       "                      [-0.4399,  0.2469,  0.1869,  0.4161,  0.0117],\n",
       "                      [-0.4220,  0.1272, -0.0170,  0.2213, -0.0852],\n",
       "                      [ 0.3064,  0.0898, -0.4384, -0.2261,  0.2243],\n",
       "                      [-0.0539, -0.0286,  0.0313, -0.1860,  0.0710],\n",
       "                      [ 0.0563,  0.4322, -0.0118, -0.3821,  0.1187],\n",
       "                      [ 0.2450, -0.1212,  0.3548, -0.4268, -0.2624],\n",
       "                      [ 0.2025,  0.3714,  0.1190, -0.2227,  0.1994],\n",
       "                      [-0.1454,  0.1359, -0.1414,  0.2444, -0.3581]])),\n",
       "             ('layers.0.bias',\n",
       "              tensor([ 0.4272,  0.2811,  0.2383,  0.1781, -0.0367,  0.3007, -0.0199, -0.1926,\n",
       "                      -0.3994, -0.3463])),\n",
       "             ('layers.1.weight',\n",
       "              tensor([[ 0.0788,  0.0782,  0.1486,  0.1971, -0.1432,  0.0966,  0.2530,  0.2907,\n",
       "                        0.0404, -0.2831]])),\n",
       "             ('layers.1.bias', tensor([0.1508]))])"
      ]
     },
     "execution_count": 15,
     "metadata": {},
     "output_type": "execute_result"
    }
   ],
   "source": [
    "class MyModel(nn.Module):\n",
    "    def __init__(self, num_layers=3):\n",
    "        super(MyModel, self).__init__()\n",
    "        layers = []\n",
    "        in_features = 5\n",
    "        out_features = 10\n",
    "        for _ in range(num_layers - 1):\n",
    "            layers.append(nn.Linear(in_features, out_features))\n",
    "            in_features = out_features   \n",
    "        layers.append(nn.Linear(in_features, 1))\n",
    "        self.layers = nn.ModuleList(layers)\n",
    "\n",
    "    def forward(self, x):\n",
    "        for layer in self.layers:\n",
    "            x = layer(x)\n",
    "            x = F.tanh(x)\n",
    "        return x\n",
    "\n",
    "\n",
    "model = MyModel(2)\n",
    "model.state_dict()"
   ]
  },
  {
   "cell_type": "code",
   "execution_count": 16,
   "id": "851891ac-2bb9-43b8-8258-11a93e8e909a",
   "metadata": {},
   "outputs": [],
   "source": [
    "class MyModel(nn.Module):\n",
    "    def __init__(self, num_layers=3):\n",
    "        super(MyModel, self).__init__()\n",
    "        self.layers = nn.Sequential()\n",
    "        in_features = 5\n",
    "        out_features = 10\n",
    "        for _ in range(num_layers - 1):\n",
    "            self.layers.extend([nn.Linear(in_features, out_features), nn.Tanh()])\n",
    "            in_features = out_features   \n",
    "        self.layers.extend([nn.Linear(in_features, 1), nn.Tanh()])\n",
    "        \n",
    "\n",
    "    def forward(self, x):\n",
    "        return self.layers(x)\n",
    "\n",
    "\n",
    "model = MyModel()"
   ]
  },
  {
   "cell_type": "code",
   "execution_count": 17,
   "id": "0fbcb6f1-7f69-438d-9f42-c8d681f08369",
   "metadata": {},
   "outputs": [],
   "source": [
    "writer = SummaryWriter()\n",
    "writer.add_graph(model, torch.rand(5))\n",
    "writer.close()"
   ]
  },
  {
   "cell_type": "code",
   "execution_count": 20,
   "id": "51fa4d4f-c39c-43c1-a3c1-a21b59fc1317",
   "metadata": {},
   "outputs": [
    {
     "name": "stderr",
     "output_type": "stream",
     "text": [
      "0.9%"
     ]
    },
    {
     "name": "stdout",
     "output_type": "stream",
     "text": [
      "Downloading http://fashion-mnist.s3-website.eu-central-1.amazonaws.com/train-images-idx3-ubyte.gz\n",
      "Downloading http://fashion-mnist.s3-website.eu-central-1.amazonaws.com/train-images-idx3-ubyte.gz to data/FashionMNIST/raw/train-images-idx3-ubyte.gz\n"
     ]
    },
    {
     "name": "stderr",
     "output_type": "stream",
     "text": [
      "100.0%\n"
     ]
    },
    {
     "name": "stdout",
     "output_type": "stream",
     "text": [
      "Extracting data/FashionMNIST/raw/train-images-idx3-ubyte.gz to data/FashionMNIST/raw\n"
     ]
    },
    {
     "name": "stderr",
     "output_type": "stream",
     "text": [
      "100.0%"
     ]
    },
    {
     "name": "stdout",
     "output_type": "stream",
     "text": [
      "\n",
      "Downloading http://fashion-mnist.s3-website.eu-central-1.amazonaws.com/train-labels-idx1-ubyte.gz\n",
      "Downloading http://fashion-mnist.s3-website.eu-central-1.amazonaws.com/train-labels-idx1-ubyte.gz to data/FashionMNIST/raw/train-labels-idx1-ubyte.gz\n",
      "Extracting data/FashionMNIST/raw/train-labels-idx1-ubyte.gz to data/FashionMNIST/raw\n",
      "\n",
      "Downloading http://fashion-mnist.s3-website.eu-central-1.amazonaws.com/t10k-images-idx3-ubyte.gz\n"
     ]
    },
    {
     "name": "stderr",
     "output_type": "stream",
     "text": [
      "\n",
      "14.8%"
     ]
    },
    {
     "name": "stdout",
     "output_type": "stream",
     "text": [
      "Downloading http://fashion-mnist.s3-website.eu-central-1.amazonaws.com/t10k-images-idx3-ubyte.gz to data/FashionMNIST/raw/t10k-images-idx3-ubyte.gz\n"
     ]
    },
    {
     "name": "stderr",
     "output_type": "stream",
     "text": [
      "100.0%\n",
      "100.0%\n"
     ]
    },
    {
     "name": "stdout",
     "output_type": "stream",
     "text": [
      "Extracting data/FashionMNIST/raw/t10k-images-idx3-ubyte.gz to data/FashionMNIST/raw\n",
      "\n",
      "Downloading http://fashion-mnist.s3-website.eu-central-1.amazonaws.com/t10k-labels-idx1-ubyte.gz\n",
      "Downloading http://fashion-mnist.s3-website.eu-central-1.amazonaws.com/t10k-labels-idx1-ubyte.gz to data/FashionMNIST/raw/t10k-labels-idx1-ubyte.gz\n",
      "Extracting data/FashionMNIST/raw/t10k-labels-idx1-ubyte.gz to data/FashionMNIST/raw\n",
      "\n"
     ]
    },
    {
     "data": {
      "image/png": "[encoded data removed]",
      "text/plain": [
       "<Figure size 1000x1000 with 25 Axes>"
      ]
     },
     "metadata": {},
     "output_type": "display_data"
    }
   ],
   "source": [
    "import torch\n",
    "from torch.utils.data import DataLoader\n",
    "from torchvision import datasets, transforms\n",
    "import matplotlib.pyplot as plt\n",
    "\n",
    "# Define a transform to convert the data to tensor\n",
    "transform = transforms.ToTensor()\n",
    "\n",
    "# Download and load the training data\n",
    "train_data = datasets.FashionMNIST(\n",
    "    root='data',\n",
    "    train=True,\n",
    "    download=True,\n",
    "    transform=transform\n",
    ")\n",
    "\n",
    "# Download and load the test data\n",
    "test_data = datasets.FashionMNIST(\n",
    "    root='data',\n",
    "    train=False,\n",
    "    download=True,\n",
    "    transform=transform\n",
    ")\n",
    "\n",
    "# Create data loaders\n",
    "train_loader = DataLoader(train_data, batch_size=64, shuffle=True)\n",
    "test_loader = DataLoader(test_data, batch_size=64, shuffle=False)\n",
    "\n",
    "# Visualize some training data\n",
    "def show_images(images, labels):\n",
    "    plt.figure(figsize=(10, 10))\n",
    "    for i in range(25):\n",
    "        plt.subplot(5, 5, i+1)\n",
    "        plt.imshow(images[i].numpy().squeeze(), cmap='gray')\n",
    "        plt.title(labels[i].item())\n",
    "        plt.axis('off')\n",
    "    plt.show()\n",
    "\n",
    "# Get a batch of training data\n",
    "images, labels = next(iter(train_loader))\n",
    "show_images(images, labels)\n"
   ]
  },
  {
   "cell_type": "code",
   "execution_count": 21,
   "id": "09cee0ce-7935-4525-bd7c-146129cf44d2",
   "metadata": {},
   "outputs": [
    {
     "name": "stdout",
     "output_type": "stream",
     "text": [
      "Downloading http://yann.lecun.com/exdb/mnist/train-images-idx3-ubyte.gz\n",
      "Failed to download (trying next):\n",
      "HTTP Error 403: Forbidden\n",
      "\n",
      "Downloading https://ossci-datasets.s3.amazonaws.com/mnist/train-images-idx3-ubyte.gz\n",
      "Downloading https://ossci-datasets.s3.amazonaws.com/mnist/train-images-idx3-ubyte.gz to ./data/MNIST/raw/train-images-idx3-ubyte.gz\n"
     ]
    },
    {
     "name": "stderr",
     "output_type": "stream",
     "text": [
      "100.0%\n"
     ]
    },
    {
     "name": "stdout",
     "output_type": "stream",
     "text": [
      "Extracting ./data/MNIST/raw/train-images-idx3-ubyte.gz to ./data/MNIST/raw\n",
      "\n",
      "Downloading http://yann.lecun.com/exdb/mnist/train-labels-idx1-ubyte.gz\n",
      "Failed to download (trying next):\n",
      "HTTP Error 403: Forbidden\n",
      "\n",
      "Downloading https://ossci-datasets.s3.amazonaws.com/mnist/train-labels-idx1-ubyte.gz\n",
      "Downloading https://ossci-datasets.s3.amazonaws.com/mnist/train-labels-idx1-ubyte.gz to ./data/MNIST/raw/train-labels-idx1-ubyte.gz\n"
     ]
    },
    {
     "name": "stderr",
     "output_type": "stream",
     "text": [
      "100.0%\n"
     ]
    },
    {
     "name": "stdout",
     "output_type": "stream",
     "text": [
      "Extracting ./data/MNIST/raw/train-labels-idx1-ubyte.gz to ./data/MNIST/raw\n",
      "\n",
      "Downloading http://yann.lecun.com/exdb/mnist/t10k-images-idx3-ubyte.gz\n",
      "Failed to download (trying next):\n",
      "HTTP Error 403: Forbidden\n",
      "\n",
      "Downloading https://ossci-datasets.s3.amazonaws.com/mnist/t10k-images-idx3-ubyte.gz\n",
      "Downloading https://ossci-datasets.s3.amazonaws.com/mnist/t10k-images-idx3-ubyte.gz to ./data/MNIST/raw/t10k-images-idx3-ubyte.gz\n"
     ]
    },
    {
     "name": "stderr",
     "output_type": "stream",
     "text": [
      "100.0%\n"
     ]
    },
    {
     "name": "stdout",
     "output_type": "stream",
     "text": [
      "Extracting ./data/MNIST/raw/t10k-images-idx3-ubyte.gz to ./data/MNIST/raw\n",
      "\n",
      "Downloading http://yann.lecun.com/exdb/mnist/t10k-labels-idx1-ubyte.gz\n",
      "Failed to download (trying next):\n",
      "HTTP Error 403: Forbidden\n",
      "\n",
      "Downloading https://ossci-datasets.s3.amazonaws.com/mnist/t10k-labels-idx1-ubyte.gz\n",
      "Downloading https://ossci-datasets.s3.amazonaws.com/mnist/t10k-labels-idx1-ubyte.gz to ./data/MNIST/raw/t10k-labels-idx1-ubyte.gz\n"
     ]
    },
    {
     "name": "stderr",
     "output_type": "stream",
     "text": [
      "100.0%\n"
     ]
    },
    {
     "name": "stdout",
     "output_type": "stream",
     "text": [
      "Extracting ./data/MNIST/raw/t10k-labels-idx1-ubyte.gz to ./data/MNIST/raw\n",
      "\n",
      "Epoch 1/5, Training Loss: 0.3167, Validation Loss: 0.1802, Validation Accuracy: 95.05%\n",
      "Epoch 2/5, Training Loss: 0.1429, Validation Loss: 0.1340, Validation Accuracy: 96.14%\n",
      "Epoch 3/5, Training Loss: 0.0973, Validation Loss: 0.1085, Validation Accuracy: 96.76%\n",
      "Epoch 4/5, Training Loss: 0.0735, Validation Loss: 0.0969, Validation Accuracy: 96.91%\n",
      "Epoch 5/5, Training Loss: 0.0562, Validation Loss: 0.0956, Validation Accuracy: 97.20%\n"
     ]
    }
   ],
   "source": [
    "import torch\n",
    "import torch.nn as nn\n",
    "import torch.optim as optim\n",
    "from torchvision import datasets, transforms\n",
    "from torch.utils.data import DataLoader, random_split\n",
    "\n",
    "# Define a simple neural network\n",
    "class SimpleNN(nn.Module):\n",
    "    def __init__(self):\n",
    "        super(SimpleNN, self).__init__()\n",
    "        self.fc1 = nn.Linear(28 * 28, 128)\n",
    "        self.fc2 = nn.Linear(128, 10)\n",
    "\n",
    "    def forward(self, x):\n",
    "        x = x.view(-1, 28 * 28)\n",
    "        x = torch.relu(self.fc1(x))\n",
    "        x = self.fc2(x)\n",
    "        return x\n",
    "\n",
    "# Load dataset and create DataLoader\n",
    "transform = transforms.Compose([transforms.ToTensor()])\n",
    "dataset = datasets.MNIST(\n",
    "    root='./data',\n",
    "    train=True,\n",
    "    transform=transform,\n",
    "    download=True\n",
    ")\n",
    "train_set, val_set = random_split(dataset, [50000, 10000])\n",
    "train_loader = DataLoader(train_set, batch_size=32, shuffle=True)\n",
    "val_loader = DataLoader(val_set, batch_size=32, shuffle=False)\n",
    "\n",
    "# Initialize model, loss function, and optimizer\n",
    "model = SimpleNN()\n",
    "criterion = nn.CrossEntropyLoss()\n",
    "optimizer = optim.Adam(model.parameters(), lr=0.001)\n",
    "\n",
    "# Training loop with validation\n",
    "num_epochs = 5\n",
    "for epoch in range(num_epochs):\n",
    "    model.train()\n",
    "    running_loss = 0.0\n",
    "    for inputs, labels in train_loader:\n",
    "        optimizer.zero_grad()\n",
    "        outputs = model(inputs)\n",
    "        loss = criterion(outputs, labels)\n",
    "        loss.backward()\n",
    "        optimizer.step()\n",
    "        running_loss += loss.item()\n",
    "\n",
    "    # Validation loop\n",
    "    model.eval()\n",
    "    val_loss = 0.0\n",
    "    correct = 0\n",
    "    total = 0\n",
    "    with torch.no_grad():\n",
    "        for inputs, labels in val_loader:\n",
    "            outputs = model(inputs)\n",
    "            loss = criterion(outputs, labels)\n",
    "            val_loss += loss.item()\n",
    "            _, predicted = torch.max(outputs, 1)\n",
    "            total += labels.size(0)\n",
    "            correct += (predicted == labels).sum().item()\n",
    "\n",
    "    print(f'Epoch {epoch+1}/{num_epochs}, '\n",
    "          f'Training Loss: {running_loss/len(train_loader):.4f}, '\n",
    "          f'Validation Loss: {val_loss/len(val_loader):.4f}, '\n",
    "          f'Validation Accuracy: {100 * correct / total:.2f}%')"
   ]
  },
  {
   "cell_type": "code",
   "execution_count": null,
   "id": "c5af0a59-103a-42b4-b453-f865e8a2e173",
   "metadata": {},
   "outputs": [],
   "source": []
  }
 ],
 "metadata": {
  "kernelspec": {
   "display_name": "Python 3 (ipykernel)",
   "language": "python",
   "name": "python3"
  },
  "language_info": {
   "codemirror_mode": {
    "name": "ipython",
    "version": 3
   },
   "file_extension": ".py",
   "mimetype": "text/x-python",
   "name": "python",
   "nbconvert_exporter": "python",
   "pygments_lexer": "ipython3",
   "version": "3.10.14"
  }
 },
 "nbformat": 4,
 "nbformat_minor": 5
}
