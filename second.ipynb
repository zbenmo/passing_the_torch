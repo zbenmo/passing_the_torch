{
 "cells": [
  {
   "cell_type": "code",
   "execution_count": 1,
   "id": "0d82e6bc-10c5-4696-813c-2304d8e6d907",
   "metadata": {},
   "outputs": [],
   "source": [
    "import torch"
   ]
  },
  {
   "cell_type": "code",
   "execution_count": 2,
   "id": "6add617f-f7ea-478f-b18e-78be6fcf6bfc",
   "metadata": {},
   "outputs": [
    {
     "name": "stdout",
     "output_type": "stream",
     "text": [
      "tensor(2.)\n"
     ]
    }
   ],
   "source": [
    "# Create a tensor and indicate that we want to compute gradients\n",
    "x = torch.tensor(1.0, requires_grad=True)\n",
    "\n",
    "# Define a function of x\n",
    "y = x ** 2\n",
    "\n",
    "# Compute the gradient of y with respect to x\n",
    "y.backward()\n",
    "\n",
    "# The gradient is stored in x.grad\n",
    "print(x.grad)  # Output: tensor(2.)"
   ]
  },
  {
   "cell_type": "code",
   "execution_count": 4,
   "id": "ce254a22-1365-4f74-bc05-5cd1a5f529ff",
   "metadata": {},
   "outputs": [
    {
     "name": "stdout",
     "output_type": "stream",
     "text": [
      "tensor(5.)\n"
     ]
    }
   ],
   "source": [
    "y2 = x ** 3\n",
    "y2.backward()\n",
    "print(x.grad)"
   ]
  },
  {
   "cell_type": "code",
   "execution_count": 9,
   "id": "0f406f91-b8f2-4138-a570-befe4c48a526",
   "metadata": {},
   "outputs": [
    {
     "name": "stdout",
     "output_type": "stream",
     "text": [
      "tensor(3.)\n"
     ]
    }
   ],
   "source": [
    "y2 = x ** 3\n",
    "x.grad = None\n",
    "y2.backward()\n",
    "print(x.grad)"
   ]
  },
  {
   "cell_type": "code",
   "execution_count": 23,
   "id": "dfb85196-8d6d-4813-b6b7-7ac8bc22be37",
   "metadata": {},
   "outputs": [
    {
     "name": "stdout",
     "output_type": "stream",
     "text": [
      "tensor(19.5745)\n",
      "tensor(1.0581)\n",
      "tensor(2.9195)\n",
      "tensor(-0.9488)\n"
     ]
    }
   ],
   "source": [
    "p1 = torch.tensor(1.0, requires_grad=True)\n",
    "p2_1 = torch.tensor(2.0, requires_grad=True)\n",
    "p2_2 = torch.tensor(3.0, requires_grad=True)\n",
    "p3 = torch.tensor(1.5, requires_grad=True)\n",
    "\n",
    "x = 3\n",
    "o1 = (p1 * x) ** 2 + 1\n",
    "o2_1 = (p2_1 * o1) ** 0.5 - 4 \n",
    "o2_2 = (p2_2 * o1).sin()\n",
    "o3 = (p3 * (o2_1 + 2 * o2_2) + 9) ** 0.3\n",
    "y = 8 * o3\n",
    "y.backward()\n",
    "\n",
    "print(p1.grad)\n",
    "print(p2_1.grad)\n",
    "print(p2_2.grad)\n",
    "print(p3.grad)"
   ]
  },
  {
   "cell_type": "code",
   "execution_count": 24,
   "id": "85f9c766-09a9-428a-b902-b1610a102cbd",
   "metadata": {},
   "outputs": [],
   "source": [
    "from torch.utils.tensorboard import SummaryWriter\n",
    "import torch.nn as nn\n",
    "\n",
    "class SimpleModel(nn.Module):\n",
    "    def __init__(self):\n",
    "        super(SimpleModel, self).__init__()\n",
    "        self.p1 = torch.tensor(1.0)\n",
    "        self.p2_1 = torch.tensor(2.0)\n",
    "        self.p2_2 = torch.tensor(3.0)\n",
    "        self.p3 = torch.tensor(1.5)\n",
    "\n",
    "\n",
    "    def forward(self, x):\n",
    "        o1 = (self.p1 * x) ** 2 + 1\n",
    "        o2_1 = (self.p2_1 * o1) ** 0.5 - 4 \n",
    "        o2_2 = (self.p2_2 * o1).sin()\n",
    "        o3 = (self.p3 * (o2_1 + 2 * o2_2) + 9) ** 0.3\n",
    "        y = 8 * o3\n",
    "        return y\n",
    "\n",
    "model = SimpleModel()\n",
    "writer = SummaryWriter()\n",
    "dummy_input = torch.zeros(1, 10)\n",
    "writer.add_graph(model, dummy_input)\n",
    "writer.close()"
   ]
  },
  {
   "cell_type": "code",
   "execution_count": 25,
   "id": "a3571f91-d13a-4c54-b4c3-51bfc7254de0",
   "metadata": {},
   "outputs": [
    {
     "ename": "AttributeError",
     "evalue": "'Tensor' object has no attribute 'training'",
     "output_type": "error",
     "traceback": [
      "\u001b[0;31m---------------------------------------------------------------------------\u001b[0m",
      "\u001b[0;31mAttributeError\u001b[0m                            Traceback (most recent call last)",
      "Cell \u001b[0;32mIn[25], line 4\u001b[0m\n\u001b[1;32m      1\u001b[0m \u001b[38;5;28;01mfrom\u001b[39;00m \u001b[38;5;21;01mtorch\u001b[39;00m\u001b[38;5;21;01m.\u001b[39;00m\u001b[38;5;21;01mutils\u001b[39;00m\u001b[38;5;21;01m.\u001b[39;00m\u001b[38;5;21;01mtensorboard\u001b[39;00m \u001b[38;5;28;01mimport\u001b[39;00m SummaryWriter\n\u001b[1;32m      3\u001b[0m writer \u001b[38;5;241m=\u001b[39m SummaryWriter()\n\u001b[0;32m----> 4\u001b[0m \u001b[43mwriter\u001b[49m\u001b[38;5;241;43m.\u001b[39;49m\u001b[43madd_graph\u001b[49m\u001b[43m(\u001b[49m\u001b[43my\u001b[49m\u001b[43m,\u001b[49m\u001b[43m \u001b[49m\u001b[43mx\u001b[49m\u001b[43m)\u001b[49m\n\u001b[1;32m      5\u001b[0m writer\u001b[38;5;241m.\u001b[39mclose()\n",
      "File \u001b[0;32m~/projects/passing_the_torch/venv/lib/python3.10/site-packages/torch/utils/tensorboard/writer.py:841\u001b[0m, in \u001b[0;36mSummaryWriter.add_graph\u001b[0;34m(self, model, input_to_model, verbose, use_strict_trace)\u001b[0m\n\u001b[1;32m    838\u001b[0m torch\u001b[38;5;241m.\u001b[39m_C\u001b[38;5;241m.\u001b[39m_log_api_usage_once(\u001b[38;5;124m\"\u001b[39m\u001b[38;5;124mtensorboard.logging.add_graph\u001b[39m\u001b[38;5;124m\"\u001b[39m)\n\u001b[1;32m    839\u001b[0m \u001b[38;5;66;03m# A valid PyTorch model should have a 'forward' method\u001b[39;00m\n\u001b[1;32m    840\u001b[0m \u001b[38;5;28mself\u001b[39m\u001b[38;5;241m.\u001b[39m_get_file_writer()\u001b[38;5;241m.\u001b[39madd_graph(\n\u001b[0;32m--> 841\u001b[0m     \u001b[43mgraph\u001b[49m\u001b[43m(\u001b[49m\u001b[43mmodel\u001b[49m\u001b[43m,\u001b[49m\u001b[43m \u001b[49m\u001b[43minput_to_model\u001b[49m\u001b[43m,\u001b[49m\u001b[43m \u001b[49m\u001b[43mverbose\u001b[49m\u001b[43m,\u001b[49m\u001b[43m \u001b[49m\u001b[43muse_strict_trace\u001b[49m\u001b[43m)\u001b[49m\n\u001b[1;32m    842\u001b[0m )\n",
      "File \u001b[0;32m~/projects/passing_the_torch/venv/lib/python3.10/site-packages/torch/utils/tensorboard/_pytorch_graph.py:329\u001b[0m, in \u001b[0;36mgraph\u001b[0;34m(model, args, verbose, use_strict_trace)\u001b[0m\n\u001b[1;32m    316\u001b[0m \u001b[38;5;28;01mdef\u001b[39;00m \u001b[38;5;21mgraph\u001b[39m(model, args, verbose\u001b[38;5;241m=\u001b[39m\u001b[38;5;28;01mFalse\u001b[39;00m, use_strict_trace\u001b[38;5;241m=\u001b[39m\u001b[38;5;28;01mTrue\u001b[39;00m):\n\u001b[1;32m    317\u001b[0m \u001b[38;5;250m    \u001b[39m\u001b[38;5;124;03m\"\"\"\u001b[39;00m\n\u001b[1;32m    318\u001b[0m \u001b[38;5;124;03m    Process a PyTorch model and produces a `GraphDef` proto that can be logged to TensorBoard.\u001b[39;00m\n\u001b[1;32m    319\u001b[0m \n\u001b[0;32m   (...)\u001b[0m\n\u001b[1;32m    327\u001b[0m \u001b[38;5;124;03m        record your mutable container types (list, dict)\u001b[39;00m\n\u001b[1;32m    328\u001b[0m \u001b[38;5;124;03m    \"\"\"\u001b[39;00m\n\u001b[0;32m--> 329\u001b[0m     \u001b[38;5;28;01mwith\u001b[39;00m _set_model_to_eval(model):\n\u001b[1;32m    330\u001b[0m         \u001b[38;5;28;01mtry\u001b[39;00m:\n\u001b[1;32m    331\u001b[0m             trace \u001b[38;5;241m=\u001b[39m torch\u001b[38;5;241m.\u001b[39mjit\u001b[38;5;241m.\u001b[39mtrace(model, args, strict\u001b[38;5;241m=\u001b[39muse_strict_trace)\n",
      "File \u001b[0;32m/usr/lib/python3.10/contextlib.py:135\u001b[0m, in \u001b[0;36m_GeneratorContextManager.__enter__\u001b[0;34m(self)\u001b[0m\n\u001b[1;32m    133\u001b[0m \u001b[38;5;28;01mdel\u001b[39;00m \u001b[38;5;28mself\u001b[39m\u001b[38;5;241m.\u001b[39margs, \u001b[38;5;28mself\u001b[39m\u001b[38;5;241m.\u001b[39mkwds, \u001b[38;5;28mself\u001b[39m\u001b[38;5;241m.\u001b[39mfunc\n\u001b[1;32m    134\u001b[0m \u001b[38;5;28;01mtry\u001b[39;00m:\n\u001b[0;32m--> 135\u001b[0m     \u001b[38;5;28;01mreturn\u001b[39;00m \u001b[38;5;28;43mnext\u001b[39;49m\u001b[43m(\u001b[49m\u001b[38;5;28;43mself\u001b[39;49m\u001b[38;5;241;43m.\u001b[39;49m\u001b[43mgen\u001b[49m\u001b[43m)\u001b[49m\n\u001b[1;32m    136\u001b[0m \u001b[38;5;28;01mexcept\u001b[39;00m \u001b[38;5;167;01mStopIteration\u001b[39;00m:\n\u001b[1;32m    137\u001b[0m     \u001b[38;5;28;01mraise\u001b[39;00m \u001b[38;5;167;01mRuntimeError\u001b[39;00m(\u001b[38;5;124m\"\u001b[39m\u001b[38;5;124mgenerator didn\u001b[39m\u001b[38;5;124m'\u001b[39m\u001b[38;5;124mt yield\u001b[39m\u001b[38;5;124m\"\u001b[39m) \u001b[38;5;28;01mfrom\u001b[39;00m \u001b[38;5;28;01mNone\u001b[39;00m\n",
      "File \u001b[0;32m~/projects/passing_the_torch/venv/lib/python3.10/site-packages/torch/utils/tensorboard/_pytorch_graph.py:364\u001b[0m, in \u001b[0;36m_set_model_to_eval\u001b[0;34m(model)\u001b[0m\n\u001b[1;32m    362\u001b[0m \u001b[38;5;250m\u001b[39m\u001b[38;5;124;03m\"\"\"Context manager to temporarily set the training mode of ``model`` to eval.\"\"\"\u001b[39;00m\n\u001b[1;32m    363\u001b[0m \u001b[38;5;28;01mif\u001b[39;00m \u001b[38;5;129;01mnot\u001b[39;00m \u001b[38;5;28misinstance\u001b[39m(model, torch\u001b[38;5;241m.\u001b[39mjit\u001b[38;5;241m.\u001b[39mScriptFunction):\n\u001b[0;32m--> 364\u001b[0m     originally_training \u001b[38;5;241m=\u001b[39m \u001b[43mmodel\u001b[49m\u001b[38;5;241;43m.\u001b[39;49m\u001b[43mtraining\u001b[49m\n\u001b[1;32m    365\u001b[0m     model\u001b[38;5;241m.\u001b[39mtrain(\u001b[38;5;28;01mFalse\u001b[39;00m)\n\u001b[1;32m    366\u001b[0m     \u001b[38;5;28;01mtry\u001b[39;00m:\n",
      "\u001b[0;31mAttributeError\u001b[0m: 'Tensor' object has no attribute 'training'"
     ]
    }
   ],
   "source": [
    "from torch.utils.tensorboard import SummaryWriter\n",
    "\n",
    "writer = SummaryWriter()\n",
    "writer.add_graph(y, x)\n",
    "writer.close()"
   ]
  },
  {
   "cell_type": "code",
   "execution_count": null,
   "id": "1016991c-da87-4d8f-8366-b3fb0c3e1b1c",
   "metadata": {},
   "outputs": [],
   "source": [
    "from torchviz import make_dot\n",
    "\n",
    "# Visualize the computation graph\n",
    "make_dot(y).render(\"computation_graph\", format=\"png\")"
   ]
  },
  {
   "cell_type": "code",
   "execution_count": 27,
   "id": "6759f627-9572-4bdf-8a10-bc5b22c1a6f0",
   "metadata": {},
   "outputs": [
    {
     "name": "stdout",
     "output_type": "stream",
     "text": [
      "(100, 0)\n",
      "(101, 1)\n",
      "(102, 2)\n",
      "(103, 3)\n",
      "(104, 4)\n",
      "(105, 5)\n",
      "(106, 6)\n",
      "(107, 7)\n",
      "(108, 8)\n",
      "(109, 9)\n"
     ]
    }
   ],
   "source": [
    "for x in enumerate(range(10), 100):\n",
    "    print(x)"
   ]
  },
  {
   "cell_type": "code",
   "execution_count": null,
   "id": "2b2fc349-0e62-4212-8c61-36b6ca6c5101",
   "metadata": {},
   "outputs": [],
   "source": []
  }
 ],
 "metadata": {
  "kernelspec": {
   "display_name": "Python 3 (ipykernel)",
   "language": "python",
   "name": "python3"
  },
  "language_info": {
   "codemirror_mode": {
    "name": "ipython",
    "version": 3
   },
   "file_extension": ".py",
   "mimetype": "text/x-python",
   "name": "python",
   "nbconvert_exporter": "python",
   "pygments_lexer": "ipython3",
   "version": "3.10.14"
  }
 },
 "nbformat": 4,
 "nbformat_minor": 5
}
