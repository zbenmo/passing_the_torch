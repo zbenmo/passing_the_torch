{
 "cells": [
  {
   "cell_type": "code",
   "execution_count": 1,
   "id": "f82c2abe-b2ef-4b60-a566-6dedc8660821",
   "metadata": {},
   "outputs": [
    {
     "name": "stderr",
     "output_type": "stream",
     "text": [
      "/home/oren/projects/passing_the_torch/venv/lib/python3.10/site-packages/torch/_subclasses/functional_tensor.py:258: UserWarning: Failed to initialize NumPy: No module named 'numpy' (Triggered internally at ../torch/csrc/utils/tensor_numpy.cpp:84.)\n",
      "  cpu = _conversion_method_template(device=torch.device(\"cpu\"))\n"
     ]
    }
   ],
   "source": [
    "import torch"
   ]
  },
  {
   "cell_type": "code",
   "execution_count": 2,
   "id": "f94e6e9e-01da-44d3-8b9a-0696be391751",
   "metadata": {},
   "outputs": [],
   "source": [
    "person_details = torch.tensor([18.0, 172.4]) # first entry age in years, second entry hight in centimeters "
   ]
  },
  {
   "cell_type": "code",
   "execution_count": 3,
   "id": "5d8c50e0-5b14-43ec-97b5-78293ac2cffd",
   "metadata": {},
   "outputs": [
    {
     "data": {
      "text/plain": [
       "tensor([ 18.0000, 172.4000])"
      ]
     },
     "execution_count": 3,
     "metadata": {},
     "output_type": "execute_result"
    }
   ],
   "source": [
    "person_details"
   ]
  },
  {
   "cell_type": "code",
   "execution_count": 4,
   "id": "026328e4-cc95-4273-8ae0-01bc7b81c715",
   "metadata": {},
   "outputs": [
    {
     "data": {
      "text/plain": [
       "tensor([[ 18.0000, 172.4000],\n",
       "        [ 51.0000, 169.2000],\n",
       "        [ 46.0000, 164.5000]])"
      ]
     },
     "execution_count": 4,
     "metadata": {},
     "output_type": "execute_result"
    }
   ],
   "source": [
    "subjects_details = torch.tensor([\n",
    "    [18.0, 172.4],\n",
    "    [51.0, 169.2],\n",
    "    [46.0, 164.5],\n",
    "])\n",
    "\n",
    "subjects_details"
   ]
  },
  {
   "cell_type": "code",
   "execution_count": 13,
   "id": "083bf699-e0bf-47f2-8dc8-aafe5d4b9c57",
   "metadata": {},
   "outputs": [
    {
     "data": {
      "text/plain": [
       "tensor([20.8938, 23.0538, 26.6073])"
      ]
     },
     "execution_count": 13,
     "metadata": {},
     "output_type": "execute_result"
    }
   ],
   "source": [
    "# first entry age in years, second entry height in centimeters, and just added the mass in kilograms.\n",
    "subjects_details = torch.tensor([\n",
    "    [18.0, 172.4, 62.1],\n",
    "    [51.0, 169.2, 66.0],\n",
    "    [46.0, 164.5, 72.0],\n",
    "])\n",
    "\n",
    "subjects_BMI = (\n",
    "    subjects_details[:, 2] / (subjects_details[:, 1] / 100.0) ** 2\n",
    ")\n",
    "\n",
    "subjects_BMI"
   ]
  },
  {
   "cell_type": "code",
   "execution_count": 12,
   "id": "f1541f71-8916-44d2-9b7b-df34fd3493a1",
   "metadata": {},
   "outputs": [
    {
     "data": {
      "text/plain": [
       "20.893782871539237"
      ]
     },
     "execution_count": 12,
     "metadata": {},
     "output_type": "execute_result"
    }
   ],
   "source": [
    "62.1 / (172.4 / 100.0) ** 2"
   ]
  },
  {
   "cell_type": "code",
   "execution_count": null,
   "id": "3c3b7c83-81c5-4a9e-a4d2-e744a44d7e11",
   "metadata": {},
   "outputs": [],
   "source": []
  }
 ],
 "metadata": {
  "kernelspec": {
   "display_name": "Python 3 (ipykernel)",
   "language": "python",
   "name": "python3"
  },
  "language_info": {
   "codemirror_mode": {
    "name": "ipython",
    "version": 3
   },
   "file_extension": ".py",
   "mimetype": "text/x-python",
   "name": "python",
   "nbconvert_exporter": "python",
   "pygments_lexer": "ipython3",
   "version": "3.10.14"
  }
 },
 "nbformat": 4,
 "nbformat_minor": 5
}
