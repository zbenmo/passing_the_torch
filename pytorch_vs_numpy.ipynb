{
 "cells": [
  {
   "cell_type": "code",
   "execution_count": 1,
   "id": "f82c2abe-b2ef-4b60-a566-6dedc8660821",
   "metadata": {},
   "outputs": [],
   "source": [
    "import torch"
   ]
  },
  {
   "cell_type": "code",
   "execution_count": 2,
   "id": "f94e6e9e-01da-44d3-8b9a-0696be391751",
   "metadata": {},
   "outputs": [],
   "source": [
    "person_details = torch.tensor([18, 172.4]) # first entry age in years, second entry hight in centimeters "
   ]
  },
  {
   "cell_type": "code",
   "execution_count": 3,
   "id": "5d8c50e0-5b14-43ec-97b5-78293ac2cffd",
   "metadata": {},
   "outputs": [
    {
     "data": {
      "text/plain": [
       "tensor([ 18.0000, 172.4000])"
      ]
     },
     "execution_count": 3,
     "metadata": {},
     "output_type": "execute_result"
    }
   ],
   "source": [
    "person_details"
   ]
  },
  {
   "cell_type": "code",
   "execution_count": 4,
   "id": "026328e4-cc95-4273-8ae0-01bc7b81c715",
   "metadata": {},
   "outputs": [
    {
     "data": {
      "text/plain": [
       "tensor([[ 18.0000, 172.4000],\n",
       "        [ 51.0000, 169.2000],\n",
       "        [ 46.0000, 164.5000]])"
      ]
     },
     "execution_count": 4,
     "metadata": {},
     "output_type": "execute_result"
    }
   ],
   "source": [
    "subjects_details = torch.tensor([\n",
    "    [18.0, 172.4],\n",
    "    [51.0, 169.2],\n",
    "    [46.0, 164.5],\n",
    "])\n",
    "\n",
    "subjects_details"
   ]
  },
  {
   "cell_type": "code",
   "execution_count": 5,
   "id": "083bf699-e0bf-47f2-8dc8-aafe5d4b9c57",
   "metadata": {},
   "outputs": [
    {
     "data": {
      "text/plain": [
       "tensor([20.8938, 23.0538, 26.6073])"
      ]
     },
     "execution_count": 5,
     "metadata": {},
     "output_type": "execute_result"
    }
   ],
   "source": [
    "# first entry age in years, second entry height in centimeters, and just added the mass in kilograms.\n",
    "subjects_details = torch.tensor([\n",
    "    [18.0, 172.4, 62.1],\n",
    "    [51.0, 169.2, 66.0],\n",
    "    [46.0, 164.5, 72.0],\n",
    "])\n",
    "\n",
    "subjects_BMI = (\n",
    "    subjects_details[:, 2] / (subjects_details[:, 1] / 100.0) ** 2\n",
    ")\n",
    "\n",
    "subjects_BMI"
   ]
  },
  {
   "cell_type": "code",
   "execution_count": 6,
   "id": "f1541f71-8916-44d2-9b7b-df34fd3493a1",
   "metadata": {},
   "outputs": [
    {
     "data": {
      "text/plain": [
       "20.893782871539237"
      ]
     },
     "execution_count": 6,
     "metadata": {},
     "output_type": "execute_result"
    }
   ],
   "source": [
    "62.1 / (172.4 / 100.0) ** 2"
   ]
  },
  {
   "cell_type": "code",
   "execution_count": 7,
   "id": "3c3b7c83-81c5-4a9e-a4d2-e744a44d7e11",
   "metadata": {},
   "outputs": [
    {
     "data": {
      "text/plain": [
       "tensor([[ 18.0000, 172.4000],\n",
       "        [ 51.0000, 169.2000],\n",
       "        [ 46.0000, 164.5000]])"
      ]
     },
     "execution_count": 7,
     "metadata": {},
     "output_type": "execute_result"
    }
   ],
   "source": [
    "subjects_details = torch.tensor([\n",
    "    [18, 172.4],\n",
    "    [51, 169.2],\n",
    "    [46, 164.5],\n",
    "])\n",
    "\n",
    "subjects_details"
   ]
  },
  {
   "cell_type": "code",
   "execution_count": 8,
   "id": "500b5ea9-0ad6-4d04-8868-c62e80671a08",
   "metadata": {},
   "outputs": [
    {
     "data": {
      "text/plain": [
       "torch.Tensor"
      ]
     },
     "execution_count": 8,
     "metadata": {},
     "output_type": "execute_result"
    }
   ],
   "source": [
    "type(subjects_details)"
   ]
  },
  {
   "cell_type": "code",
   "execution_count": 9,
   "id": "9953fde9-26c0-4f75-a4a6-593d6d24bc3a",
   "metadata": {},
   "outputs": [
    {
     "data": {
      "text/plain": [
       "'torch.FloatTensor'"
      ]
     },
     "execution_count": 9,
     "metadata": {},
     "output_type": "execute_result"
    }
   ],
   "source": [
    "subjects_details.type()"
   ]
  },
  {
   "cell_type": "code",
   "execution_count": 10,
   "id": "d489bfce-943f-480f-acde-ab352fb1d1ed",
   "metadata": {},
   "outputs": [
    {
     "data": {
      "text/plain": [
       "torch.float32"
      ]
     },
     "execution_count": 10,
     "metadata": {},
     "output_type": "execute_result"
    }
   ],
   "source": [
    "subjects_details.dtype"
   ]
  },
  {
   "cell_type": "code",
   "execution_count": 11,
   "id": "2f13ed54-e61c-4cce-85c6-c84083a7624e",
   "metadata": {},
   "outputs": [
    {
     "data": {
      "text/plain": [
       "torch.Size([3, 2])"
      ]
     },
     "execution_count": 11,
     "metadata": {},
     "output_type": "execute_result"
    }
   ],
   "source": [
    "subjects_details.shape"
   ]
  },
  {
   "cell_type": "code",
   "execution_count": 12,
   "id": "e2e821f4-dd69-4425-9549-91674705b3df",
   "metadata": {},
   "outputs": [
    {
     "data": {
      "text/plain": [
       "tensor([[0, 1, 1, 0],\n",
       "        [1, 0, 0, 1],\n",
       "        [1, 0, 0, 1],\n",
       "        [0, 1, 1, 0]])"
      ]
     },
     "execution_count": 12,
     "metadata": {},
     "output_type": "execute_result"
    }
   ],
   "source": [
    "img = torch.tensor([\n",
    "    [0, 1, 1, 0],\n",
    "    [1, 0, 0, 1],\n",
    "    [1, 0, 0, 1],\n",
    "    [0, 1, 1, 0],\n",
    "])\n",
    "\n",
    "img"
   ]
  },
  {
   "cell_type": "code",
   "execution_count": 13,
   "id": "cbda0875-db5f-4684-b840-46923803f521",
   "metadata": {},
   "outputs": [
    {
     "data": {
      "text/plain": [
       "'torch.LongTensor'"
      ]
     },
     "execution_count": 13,
     "metadata": {},
     "output_type": "execute_result"
    }
   ],
   "source": [
    "img.type()"
   ]
  },
  {
   "cell_type": "code",
   "execution_count": 14,
   "id": "2a079e68-ab97-42c8-ab7e-32031c5d0471",
   "metadata": {},
   "outputs": [
    {
     "data": {
      "text/plain": [
       "tensor([[0., 1., 1., 0.],\n",
       "        [1., 0., 0., 1.],\n",
       "        [1., 0., 0., 1.],\n",
       "        [0., 1., 1., 0.]])"
      ]
     },
     "execution_count": 14,
     "metadata": {},
     "output_type": "execute_result"
    }
   ],
   "source": [
    "img = torch.Tensor([\n",
    "    [0, 1, 1, 0],\n",
    "    [1, 0, 0, 1],\n",
    "    [1, 0, 0, 1],\n",
    "    [0, 1, 1, 0],\n",
    "])\n",
    "\n",
    "img"
   ]
  },
  {
   "cell_type": "code",
   "execution_count": 15,
   "id": "f8634fdc-700f-4d56-adc3-32ff18077191",
   "metadata": {},
   "outputs": [
    {
     "data": {
      "text/plain": [
       "tensor([[0., 1., 1., 0.],\n",
       "        [1., 0., 0., 1.],\n",
       "        [1., 0., 0., 1.],\n",
       "        [0., 1., 1., 0.]])"
      ]
     },
     "execution_count": 15,
     "metadata": {},
     "output_type": "execute_result"
    }
   ],
   "source": [
    "img = torch.tensor([\n",
    "    [0, 1, 1, 0],\n",
    "    [1, 0, 0, 1],\n",
    "    [1, 0, 0, 1],\n",
    "    [0, 1, 1, 0],\n",
    "])\n",
    "\n",
    "img.to(torch.float32)"
   ]
  },
  {
   "cell_type": "code",
   "execution_count": 16,
   "id": "fd7b43e7-0d46-4626-a12b-72c8a06f0018",
   "metadata": {},
   "outputs": [
    {
     "data": {
      "text/plain": [
       "tensor([[[0, 1, 1, 0],\n",
       "         [1, 0, 0, 1],\n",
       "         [1, 0, 0, 1],\n",
       "         [0, 1, 1, 0]],\n",
       "\n",
       "        [[0, 1, 1, 0],\n",
       "         [1, 0, 0, 1],\n",
       "         [1, 0, 0, 1],\n",
       "         [0, 1, 1, 0]],\n",
       "\n",
       "        [[0, 1, 1, 0],\n",
       "         [1, 0, 0, 1],\n",
       "         [1, 0, 0, 1],\n",
       "         [0, 1, 1, 0]]])"
      ]
     },
     "execution_count": 16,
     "metadata": {},
     "output_type": "execute_result"
    }
   ],
   "source": [
    "chw_img = img.unsqueeze(0).repeat(3, 1, 1)\n",
    "chw_img"
   ]
  },
  {
   "cell_type": "code",
   "execution_count": 17,
   "id": "d48b1fea-cdba-476b-8219-079e9d739050",
   "metadata": {},
   "outputs": [
    {
     "data": {
      "text/plain": [
       "tensor([[[0, 1, 1, 0],\n",
       "         [1, 0, 0, 1],\n",
       "         [1, 0, 0, 1],\n",
       "         [0, 1, 1, 0]],\n",
       "\n",
       "        [[0, 2, 2, 0],\n",
       "         [2, 0, 0, 2],\n",
       "         [2, 0, 0, 2],\n",
       "         [0, 2, 2, 0]],\n",
       "\n",
       "        [[0, 3, 3, 0],\n",
       "         [3, 0, 0, 3],\n",
       "         [3, 0, 0, 3],\n",
       "         [0, 3, 3, 0]]])"
      ]
     },
     "execution_count": 17,
     "metadata": {},
     "output_type": "execute_result"
    }
   ],
   "source": [
    "chw_img[1] *= 2\n",
    "chw_img[2] *= 3\n",
    "chw_img"
   ]
  },
  {
   "cell_type": "code",
   "execution_count": 18,
   "id": "16f3feab-cab4-42eb-88b7-fe12230c8bdc",
   "metadata": {},
   "outputs": [
    {
     "data": {
      "text/plain": [
       "tensor([[0, 3, 3, 0],\n",
       "        [3, 0, 0, 3],\n",
       "        [3, 0, 0, 3],\n",
       "        [0, 3, 3, 0]])"
      ]
     },
     "execution_count": 18,
     "metadata": {},
     "output_type": "execute_result"
    }
   ],
   "source": [
    "chw_img.permute(1, 2, 0)[:, :, 2]"
   ]
  },
  {
   "cell_type": "code",
   "execution_count": 19,
   "id": "d0b93307-0fa4-4288-943d-5f185c2f598e",
   "metadata": {},
   "outputs": [
    {
     "data": {
      "text/plain": [
       "torch.Size([3, 4, 4])"
      ]
     },
     "execution_count": 19,
     "metadata": {},
     "output_type": "execute_result"
    }
   ],
   "source": [
    "chw_img.shape"
   ]
  },
  {
   "cell_type": "code",
   "execution_count": 20,
   "id": "f9fdaeb1-b262-41a1-92ce-9037542ddab5",
   "metadata": {},
   "outputs": [
    {
     "data": {
      "text/plain": [
       "tensor([[[0, 1, 1, 0],\n",
       "         [1, 0, 0, 1],\n",
       "         [1, 0, 0, 1],\n",
       "         [0, 1, 1, 0]],\n",
       "\n",
       "        [[0, 2, 2, 0],\n",
       "         [2, 0, 0, 2],\n",
       "         [2, 0, 0, 2],\n",
       "         [0, 2, 2, 0]],\n",
       "\n",
       "        [[0, 3, 3, 0],\n",
       "         [3, 0, 0, 3],\n",
       "         [3, 0, 0, 3],\n",
       "         [0, 3, 3, 0]]])"
      ]
     },
     "execution_count": 20,
     "metadata": {},
     "output_type": "execute_result"
    }
   ],
   "source": [
    "hwc_img = chw_img.permute(1, 2, 0)\n",
    "hwc_img.permute(2, 0, 1)"
   ]
  },
  {
   "cell_type": "code",
   "execution_count": 21,
   "id": "050cdd07-f083-4240-a44f-8eea593dd665",
   "metadata": {},
   "outputs": [
    {
     "name": "stdout",
     "output_type": "stream",
     "text": [
      "torch.Size([9])\n",
      "torch.Size([3, 3])\n"
     ]
    }
   ],
   "source": [
    "img_vec = torch.arange(9)\n",
    "print(img_vec.shape)\n",
    "img_mat = img_vec.reshape(-1, 3)\n",
    "print(img_mat.shape)"
   ]
  },
  {
   "cell_type": "code",
   "execution_count": 22,
   "id": "cf33deb9-868b-4587-887e-6948c6bdd996",
   "metadata": {},
   "outputs": [
    {
     "data": {
      "text/plain": [
       "tensor([[0, 1, 2],\n",
       "        [3, 4, 5],\n",
       "        [6, 7, 8]])"
      ]
     },
     "execution_count": 22,
     "metadata": {},
     "output_type": "execute_result"
    }
   ],
   "source": [
    "img_mat"
   ]
  },
  {
   "cell_type": "code",
   "execution_count": 23,
   "id": "4f419a6b-f06e-4b8c-8810-e19da4c6d5c1",
   "metadata": {},
   "outputs": [
    {
     "data": {
      "text/plain": [
       "tensor([ 0,  1,  2,  3,  4,  5,  6,  7, 88])"
      ]
     },
     "execution_count": 23,
     "metadata": {},
     "output_type": "execute_result"
    }
   ],
   "source": [
    "img_mat[-1, -1] = 88\n",
    "img_vec"
   ]
  },
  {
   "cell_type": "code",
   "execution_count": 24,
   "id": "85f6f5b5-a52d-4b33-a760-eaf5af95e22e",
   "metadata": {},
   "outputs": [
    {
     "name": "stdout",
     "output_type": "stream",
     "text": [
      "tensor(-1.3644)\n",
      "torch.Size([])\n",
      "-1.364400863647461\n"
     ]
    }
   ],
   "source": [
    "tensor1 = torch.randn(3)\n",
    "tensor2 = torch.randn(3)\n",
    "res = torch.matmul(tensor1, tensor2)\n",
    "print(res)\n",
    "print(res.size())\n",
    "print(res.item())"
   ]
  },
  {
   "cell_type": "code",
   "execution_count": 25,
   "id": "d1185ca5-a057-4315-bbb4-57e3cce20fe7",
   "metadata": {},
   "outputs": [
    {
     "data": {
      "text/plain": [
       "False"
      ]
     },
     "execution_count": 25,
     "metadata": {},
     "output_type": "execute_result"
    }
   ],
   "source": [
    "torch.cuda.is_available()"
   ]
  },
  {
   "cell_type": "code",
   "execution_count": 26,
   "id": "ad0b71a4-ccd6-4f73-bcf9-b4c2c4f8f81a",
   "metadata": {},
   "outputs": [
    {
     "data": {
      "text/plain": [
       "tensor([[[0, 1, 1, 0],\n",
       "         [1, 0, 0, 1],\n",
       "         [1, 0, 0, 1],\n",
       "         [0, 1, 1, 0]],\n",
       "\n",
       "        [[0, 2, 2, 0],\n",
       "         [2, 0, 0, 2],\n",
       "         [2, 0, 0, 2],\n",
       "         [0, 2, 2, 0]],\n",
       "\n",
       "        [[0, 3, 3, 0],\n",
       "         [3, 0, 0, 3],\n",
       "         [3, 0, 0, 3],\n",
       "         [0, 3, 3, 0]]])"
      ]
     },
     "execution_count": 26,
     "metadata": {},
     "output_type": "execute_result"
    }
   ],
   "source": [
    "img = torch.tensor([\n",
    "    [0, 1, 1, 0],\n",
    "    [1, 0, 0, 1],\n",
    "    [1, 0, 0, 1],\n",
    "    [0, 1, 1, 0],\n",
    "])\n",
    "\n",
    "img * torch.tensor([[[1]], [[2]], [[3]]])"
   ]
  },
  {
   "cell_type": "code",
   "execution_count": 35,
   "id": "b6fbb829-7702-4be9-afe0-ac515ee04996",
   "metadata": {},
   "outputs": [
    {
     "data": {
      "text/plain": [
       "tensor([1.1000, 3.0000, 4.0000, 5.0000])"
      ]
     },
     "execution_count": 35,
     "metadata": {},
     "output_type": "execute_result"
    }
   ],
   "source": [
    "t1 = torch.tensor([1.1, 2, 3, 4, 5])\n",
    "\n",
    "t1[t1 != 2]"
   ]
  },
  {
   "cell_type": "code",
   "execution_count": 36,
   "id": "71e7c080-930c-4164-94f6-b9edd9299dc6",
   "metadata": {},
   "outputs": [
    {
     "data": {
      "text/plain": [
       "'torch.BoolTensor'"
      ]
     },
     "execution_count": 36,
     "metadata": {},
     "output_type": "execute_result"
    }
   ],
   "source": [
    "(t1 != 2).type()"
   ]
  },
  {
   "cell_type": "code",
   "execution_count": 37,
   "id": "bd4ed53e-0978-4ecc-af23-359b83d7f796",
   "metadata": {},
   "outputs": [
    {
     "data": {
      "text/plain": [
       "torch.Size([5])"
      ]
     },
     "execution_count": 37,
     "metadata": {},
     "output_type": "execute_result"
    }
   ],
   "source": [
    "(t1 != 2).shape"
   ]
  },
  {
   "cell_type": "code",
   "execution_count": 43,
   "id": "ea9007bc-e6ce-49eb-ad81-cb3531ccb19b",
   "metadata": {},
   "outputs": [
    {
     "data": {
      "text/plain": [
       "tensor([1.1000, 1.1000, 1.1000, 2.0000, 2.0000, 2.0000, 2.0000, 4.0000])"
      ]
     },
     "execution_count": 43,
     "metadata": {},
     "output_type": "execute_result"
    }
   ],
   "source": [
    "t1[torch.tensor([0, 0, 0, 1, 1, 1, 1, 3])]"
   ]
  },
  {
   "cell_type": "code",
   "execution_count": 47,
   "id": "7fc7a93a-0905-4158-a851-01a46441afd1",
   "metadata": {},
   "outputs": [],
   "source": [
    "t2 = torch.tensor([[1.1, 2, 3, 4, 5], [2, 2, 3, 4, 5]])"
   ]
  },
  {
   "cell_type": "code",
   "execution_count": 48,
   "id": "cc231ce2-3d5c-4014-87d2-c222c6622c91",
   "metadata": {},
   "outputs": [
    {
     "data": {
      "text/plain": [
       "tensor([1.1000, 3.0000, 4.0000, 5.0000, 3.0000, 4.0000, 5.0000])"
      ]
     },
     "execution_count": 48,
     "metadata": {},
     "output_type": "execute_result"
    }
   ],
   "source": [
    "t2[t2 != 2]"
   ]
  },
  {
   "cell_type": "code",
   "execution_count": null,
   "id": "f3b2c928-61ed-414e-bdd4-f08943f5b608",
   "metadata": {},
   "outputs": [],
   "source": []
  }
 ],
 "metadata": {
  "kernelspec": {
   "display_name": "Python 3 (ipykernel)",
   "language": "python",
   "name": "python3"
  },
  "language_info": {
   "codemirror_mode": {
    "name": "ipython",
    "version": 3
   },
   "file_extension": ".py",
   "mimetype": "text/x-python",
   "name": "python",
   "nbconvert_exporter": "python",
   "pygments_lexer": "ipython3",
   "version": "3.10.14"
  }
 },
 "nbformat": 4,
 "nbformat_minor": 5
}
